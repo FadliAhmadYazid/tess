{
  "nbformat": 4,
  "nbformat_minor": 0,
  "metadata": {
    "colab": {
      "provenance": []
    },
    "kernelspec": {
      "name": "python3",
      "display_name": "Python 3"
    },
    "language_info": {
      "name": "python"
    }
  },
  "cells": [
    {
      "cell_type": "markdown",
      "source": [
        "# **1. Import Library**"
      ],
      "metadata": {
        "id": "fKADPWcFKlj3"
      }
    },
    {
      "cell_type": "markdown",
      "source": [
        "Pada tahap ini, Anda perlu mengimpor beberapa pustaka (library) Python yang dibutuhkan untuk analisis data dan pembangunan model machine learning."
      ],
      "metadata": {
        "id": "LgA3ERnVn84N"
      }
    },
    {
      "cell_type": "code",
      "source": [
        "# Import library yang diperlukan\n",
        "import pandas as pd\n",
        "import numpy as np\n",
        "import matplotlib.pyplot as plt\n",
        "import seaborn as sns\n",
        "from sklearn.model_selection import train_test_split\n",
        "from sklearn.preprocessing import StandardScaler\n",
        "from sklearn.linear_model import LogisticRegression\n",
        "from sklearn.naive_bayes import GaussianNB\n",
        "from sklearn.metrics import accuracy_score, f1_score, classification_report, confusion_matrix\n",
        "from sklearn.model_selection import GridSearchCV\n",
        "import pickle\n",
        "import warnings\n",
        "warnings.filterwarnings('ignore')\n",
        "\n",
        "RANDOM_SEED = 42\n",
        "np.random.seed(RANDOM_SEED)"
      ],
      "metadata": {
        "id": "BlmvjLY9M4Yj"
      },
      "execution_count": 1,
      "outputs": []
    },
    {
      "cell_type": "markdown",
      "source": [
        "# **2. Memuat Dataset dari Hasil Clustering**"
      ],
      "metadata": {
        "id": "f3YIEnAFKrKL"
      }
    },
    {
      "cell_type": "markdown",
      "source": [
        "Memuat dataset hasil clustering dari file CSV ke dalam variabel DataFrame."
      ],
      "metadata": {
        "id": "Ey3ItwTen_7E"
      }
    },
    {
      "cell_type": "code",
      "source": [
        "# Memuat dataset hasil clustering\n",
        "df = pd.read_csv('after-clustering.csv')"
      ],
      "metadata": {
        "id": "GHCGNTyrM5fS"
      },
      "execution_count": 2,
      "outputs": []
    },
    {
      "cell_type": "code",
      "source": [
        "# Melihat sekilas informasi dataset\n",
        "print(f\"Jumlah data: {df.shape[0]}\")\n",
        "print(f\"Jumlah fitur: {df.shape[1]-1}\")\n",
        "print(\"\\nDistribusi kelas:\")\n",
        "print(df['cluster'].value_counts())"
      ],
      "metadata": {
        "colab": {
          "base_uri": "https://localhost:8080/"
        },
        "id": "P0p-9cXcOn56",
        "outputId": "9aec1daf-a9cb-46ec-a87f-b7da8e1e21a6"
      },
      "execution_count": 3,
      "outputs": [
        {
          "output_type": "stream",
          "name": "stdout",
          "text": [
            "Jumlah data: 2512\n",
            "Jumlah fitur: 5\n",
            "\n",
            "Distribusi kelas:\n",
            "cluster\n",
            "0    2371\n",
            "1     141\n",
            "Name: count, dtype: int64\n"
          ]
        }
      ]
    },
    {
      "cell_type": "code",
      "source": [
        "# Tampilkan beberapa baris pertama dataset\n",
        "print(\"\\nContoh data:\")\n",
        "df.head()"
      ],
      "metadata": {
        "colab": {
          "base_uri": "https://localhost:8080/",
          "height": 241
        },
        "id": "OPVjsrYROpXe",
        "outputId": "801a6b56-bed8-439e-838a-52f2bc3e51a3"
      },
      "execution_count": 4,
      "outputs": [
        {
          "output_type": "stream",
          "name": "stdout",
          "text": [
            "\n",
            "Contoh data:\n"
          ]
        },
        {
          "output_type": "execute_result",
          "data": {
            "text/plain": [
              "   TransactionDuration  TransactionHour  TransactionDayOfWeek  \\\n",
              "0            -0.321429               16                     1   \n",
              "1             0.290816               16                     1   \n",
              "2            -0.576531               18                     0   \n",
              "3            -0.892857               16                     4   \n",
              "4             0.872449               17                     0   \n",
              "\n",
              "   TransactionAmountToBalance  LoginToTransactionRatio  cluster  \n",
              "0                   -0.368056                 0.267106        0  \n",
              "1                   -0.183784                -0.201704        0  \n",
              "2                    0.453846                 0.753736        0  \n",
              "3                   -0.227363                 2.656835        0  \n",
              "4                   -0.375142                -0.385223        0  "
            ],
            "text/html": [
              "\n",
              "  <div id=\"df-30a0e8fa-2abf-46a3-9fe2-d71521b4e3e1\" class=\"colab-df-container\">\n",
              "    <div>\n",
              "<style scoped>\n",
              "    .dataframe tbody tr th:only-of-type {\n",
              "        vertical-align: middle;\n",
              "    }\n",
              "\n",
              "    .dataframe tbody tr th {\n",
              "        vertical-align: top;\n",
              "    }\n",
              "\n",
              "    .dataframe thead th {\n",
              "        text-align: right;\n",
              "    }\n",
              "</style>\n",
              "<table border=\"1\" class=\"dataframe\">\n",
              "  <thead>\n",
              "    <tr style=\"text-align: right;\">\n",
              "      <th></th>\n",
              "      <th>TransactionDuration</th>\n",
              "      <th>TransactionHour</th>\n",
              "      <th>TransactionDayOfWeek</th>\n",
              "      <th>TransactionAmountToBalance</th>\n",
              "      <th>LoginToTransactionRatio</th>\n",
              "      <th>cluster</th>\n",
              "    </tr>\n",
              "  </thead>\n",
              "  <tbody>\n",
              "    <tr>\n",
              "      <th>0</th>\n",
              "      <td>-0.321429</td>\n",
              "      <td>16</td>\n",
              "      <td>1</td>\n",
              "      <td>-0.368056</td>\n",
              "      <td>0.267106</td>\n",
              "      <td>0</td>\n",
              "    </tr>\n",
              "    <tr>\n",
              "      <th>1</th>\n",
              "      <td>0.290816</td>\n",
              "      <td>16</td>\n",
              "      <td>1</td>\n",
              "      <td>-0.183784</td>\n",
              "      <td>-0.201704</td>\n",
              "      <td>0</td>\n",
              "    </tr>\n",
              "    <tr>\n",
              "      <th>2</th>\n",
              "      <td>-0.576531</td>\n",
              "      <td>18</td>\n",
              "      <td>0</td>\n",
              "      <td>0.453846</td>\n",
              "      <td>0.753736</td>\n",
              "      <td>0</td>\n",
              "    </tr>\n",
              "    <tr>\n",
              "      <th>3</th>\n",
              "      <td>-0.892857</td>\n",
              "      <td>16</td>\n",
              "      <td>4</td>\n",
              "      <td>-0.227363</td>\n",
              "      <td>2.656835</td>\n",
              "      <td>0</td>\n",
              "    </tr>\n",
              "    <tr>\n",
              "      <th>4</th>\n",
              "      <td>0.872449</td>\n",
              "      <td>17</td>\n",
              "      <td>0</td>\n",
              "      <td>-0.375142</td>\n",
              "      <td>-0.385223</td>\n",
              "      <td>0</td>\n",
              "    </tr>\n",
              "  </tbody>\n",
              "</table>\n",
              "</div>\n",
              "    <div class=\"colab-df-buttons\">\n",
              "\n",
              "  <div class=\"colab-df-container\">\n",
              "    <button class=\"colab-df-convert\" onclick=\"convertToInteractive('df-30a0e8fa-2abf-46a3-9fe2-d71521b4e3e1')\"\n",
              "            title=\"Convert this dataframe to an interactive table.\"\n",
              "            style=\"display:none;\">\n",
              "\n",
              "  <svg xmlns=\"http://www.w3.org/2000/svg\" height=\"24px\" viewBox=\"0 -960 960 960\">\n",
              "    <path d=\"M120-120v-720h720v720H120Zm60-500h600v-160H180v160Zm220 220h160v-160H400v160Zm0 220h160v-160H400v160ZM180-400h160v-160H180v160Zm440 0h160v-160H620v160ZM180-180h160v-160H180v160Zm440 0h160v-160H620v160Z\"/>\n",
              "  </svg>\n",
              "    </button>\n",
              "\n",
              "  <style>\n",
              "    .colab-df-container {\n",
              "      display:flex;\n",
              "      gap: 12px;\n",
              "    }\n",
              "\n",
              "    .colab-df-convert {\n",
              "      background-color: #E8F0FE;\n",
              "      border: none;\n",
              "      border-radius: 50%;\n",
              "      cursor: pointer;\n",
              "      display: none;\n",
              "      fill: #1967D2;\n",
              "      height: 32px;\n",
              "      padding: 0 0 0 0;\n",
              "      width: 32px;\n",
              "    }\n",
              "\n",
              "    .colab-df-convert:hover {\n",
              "      background-color: #E2EBFA;\n",
              "      box-shadow: 0px 1px 2px rgba(60, 64, 67, 0.3), 0px 1px 3px 1px rgba(60, 64, 67, 0.15);\n",
              "      fill: #174EA6;\n",
              "    }\n",
              "\n",
              "    .colab-df-buttons div {\n",
              "      margin-bottom: 4px;\n",
              "    }\n",
              "\n",
              "    [theme=dark] .colab-df-convert {\n",
              "      background-color: #3B4455;\n",
              "      fill: #D2E3FC;\n",
              "    }\n",
              "\n",
              "    [theme=dark] .colab-df-convert:hover {\n",
              "      background-color: #434B5C;\n",
              "      box-shadow: 0px 1px 3px 1px rgba(0, 0, 0, 0.15);\n",
              "      filter: drop-shadow(0px 1px 2px rgba(0, 0, 0, 0.3));\n",
              "      fill: #FFFFFF;\n",
              "    }\n",
              "  </style>\n",
              "\n",
              "    <script>\n",
              "      const buttonEl =\n",
              "        document.querySelector('#df-30a0e8fa-2abf-46a3-9fe2-d71521b4e3e1 button.colab-df-convert');\n",
              "      buttonEl.style.display =\n",
              "        google.colab.kernel.accessAllowed ? 'block' : 'none';\n",
              "\n",
              "      async function convertToInteractive(key) {\n",
              "        const element = document.querySelector('#df-30a0e8fa-2abf-46a3-9fe2-d71521b4e3e1');\n",
              "        const dataTable =\n",
              "          await google.colab.kernel.invokeFunction('convertToInteractive',\n",
              "                                                    [key], {});\n",
              "        if (!dataTable) return;\n",
              "\n",
              "        const docLinkHtml = 'Like what you see? Visit the ' +\n",
              "          '<a target=\"_blank\" href=https://colab.research.google.com/notebooks/data_table.ipynb>data table notebook</a>'\n",
              "          + ' to learn more about interactive tables.';\n",
              "        element.innerHTML = '';\n",
              "        dataTable['output_type'] = 'display_data';\n",
              "        await google.colab.output.renderOutput(dataTable, element);\n",
              "        const docLink = document.createElement('div');\n",
              "        docLink.innerHTML = docLinkHtml;\n",
              "        element.appendChild(docLink);\n",
              "      }\n",
              "    </script>\n",
              "  </div>\n",
              "\n",
              "\n",
              "<div id=\"df-bec4d59a-7a7b-4c08-af8b-a4084cf958bc\">\n",
              "  <button class=\"colab-df-quickchart\" onclick=\"quickchart('df-bec4d59a-7a7b-4c08-af8b-a4084cf958bc')\"\n",
              "            title=\"Suggest charts\"\n",
              "            style=\"display:none;\">\n",
              "\n",
              "<svg xmlns=\"http://www.w3.org/2000/svg\" height=\"24px\"viewBox=\"0 0 24 24\"\n",
              "     width=\"24px\">\n",
              "    <g>\n",
              "        <path d=\"M19 3H5c-1.1 0-2 .9-2 2v14c0 1.1.9 2 2 2h14c1.1 0 2-.9 2-2V5c0-1.1-.9-2-2-2zM9 17H7v-7h2v7zm4 0h-2V7h2v10zm4 0h-2v-4h2v4z\"/>\n",
              "    </g>\n",
              "</svg>\n",
              "  </button>\n",
              "\n",
              "<style>\n",
              "  .colab-df-quickchart {\n",
              "      --bg-color: #E8F0FE;\n",
              "      --fill-color: #1967D2;\n",
              "      --hover-bg-color: #E2EBFA;\n",
              "      --hover-fill-color: #174EA6;\n",
              "      --disabled-fill-color: #AAA;\n",
              "      --disabled-bg-color: #DDD;\n",
              "  }\n",
              "\n",
              "  [theme=dark] .colab-df-quickchart {\n",
              "      --bg-color: #3B4455;\n",
              "      --fill-color: #D2E3FC;\n",
              "      --hover-bg-color: #434B5C;\n",
              "      --hover-fill-color: #FFFFFF;\n",
              "      --disabled-bg-color: #3B4455;\n",
              "      --disabled-fill-color: #666;\n",
              "  }\n",
              "\n",
              "  .colab-df-quickchart {\n",
              "    background-color: var(--bg-color);\n",
              "    border: none;\n",
              "    border-radius: 50%;\n",
              "    cursor: pointer;\n",
              "    display: none;\n",
              "    fill: var(--fill-color);\n",
              "    height: 32px;\n",
              "    padding: 0;\n",
              "    width: 32px;\n",
              "  }\n",
              "\n",
              "  .colab-df-quickchart:hover {\n",
              "    background-color: var(--hover-bg-color);\n",
              "    box-shadow: 0 1px 2px rgba(60, 64, 67, 0.3), 0 1px 3px 1px rgba(60, 64, 67, 0.15);\n",
              "    fill: var(--button-hover-fill-color);\n",
              "  }\n",
              "\n",
              "  .colab-df-quickchart-complete:disabled,\n",
              "  .colab-df-quickchart-complete:disabled:hover {\n",
              "    background-color: var(--disabled-bg-color);\n",
              "    fill: var(--disabled-fill-color);\n",
              "    box-shadow: none;\n",
              "  }\n",
              "\n",
              "  .colab-df-spinner {\n",
              "    border: 2px solid var(--fill-color);\n",
              "    border-color: transparent;\n",
              "    border-bottom-color: var(--fill-color);\n",
              "    animation:\n",
              "      spin 1s steps(1) infinite;\n",
              "  }\n",
              "\n",
              "  @keyframes spin {\n",
              "    0% {\n",
              "      border-color: transparent;\n",
              "      border-bottom-color: var(--fill-color);\n",
              "      border-left-color: var(--fill-color);\n",
              "    }\n",
              "    20% {\n",
              "      border-color: transparent;\n",
              "      border-left-color: var(--fill-color);\n",
              "      border-top-color: var(--fill-color);\n",
              "    }\n",
              "    30% {\n",
              "      border-color: transparent;\n",
              "      border-left-color: var(--fill-color);\n",
              "      border-top-color: var(--fill-color);\n",
              "      border-right-color: var(--fill-color);\n",
              "    }\n",
              "    40% {\n",
              "      border-color: transparent;\n",
              "      border-right-color: var(--fill-color);\n",
              "      border-top-color: var(--fill-color);\n",
              "    }\n",
              "    60% {\n",
              "      border-color: transparent;\n",
              "      border-right-color: var(--fill-color);\n",
              "    }\n",
              "    80% {\n",
              "      border-color: transparent;\n",
              "      border-right-color: var(--fill-color);\n",
              "      border-bottom-color: var(--fill-color);\n",
              "    }\n",
              "    90% {\n",
              "      border-color: transparent;\n",
              "      border-bottom-color: var(--fill-color);\n",
              "    }\n",
              "  }\n",
              "</style>\n",
              "\n",
              "  <script>\n",
              "    async function quickchart(key) {\n",
              "      const quickchartButtonEl =\n",
              "        document.querySelector('#' + key + ' button');\n",
              "      quickchartButtonEl.disabled = true;  // To prevent multiple clicks.\n",
              "      quickchartButtonEl.classList.add('colab-df-spinner');\n",
              "      try {\n",
              "        const charts = await google.colab.kernel.invokeFunction(\n",
              "            'suggestCharts', [key], {});\n",
              "      } catch (error) {\n",
              "        console.error('Error during call to suggestCharts:', error);\n",
              "      }\n",
              "      quickchartButtonEl.classList.remove('colab-df-spinner');\n",
              "      quickchartButtonEl.classList.add('colab-df-quickchart-complete');\n",
              "    }\n",
              "    (() => {\n",
              "      let quickchartButtonEl =\n",
              "        document.querySelector('#df-bec4d59a-7a7b-4c08-af8b-a4084cf958bc button');\n",
              "      quickchartButtonEl.style.display =\n",
              "        google.colab.kernel.accessAllowed ? 'block' : 'none';\n",
              "    })();\n",
              "  </script>\n",
              "</div>\n",
              "\n",
              "    </div>\n",
              "  </div>\n"
            ],
            "application/vnd.google.colaboratory.intrinsic+json": {
              "type": "dataframe",
              "variable_name": "df",
              "summary": "{\n  \"name\": \"df\",\n  \"rows\": 2512,\n  \"fields\": [\n    {\n      \"column\": \"TransactionDuration\",\n      \"properties\": {\n        \"dtype\": \"number\",\n        \"std\": 0.713915886986266,\n        \"min\": -1.0459183673469388,\n        \"max\": 1.913265306122449,\n        \"num_unique_values\": 288,\n        \"samples\": [\n          0.2602040816326531,\n          -0.7704081632653061,\n          -0.423469387755102\n        ],\n        \"semantic_type\": \"\",\n        \"description\": \"\"\n      }\n    },\n    {\n      \"column\": \"TransactionHour\",\n      \"properties\": {\n        \"dtype\": \"number\",\n        \"std\": 0,\n        \"min\": 16,\n        \"max\": 18,\n        \"num_unique_values\": 3,\n        \"samples\": [\n          16,\n          18,\n          17\n        ],\n        \"semantic_type\": \"\",\n        \"description\": \"\"\n      }\n    },\n    {\n      \"column\": \"TransactionDayOfWeek\",\n      \"properties\": {\n        \"dtype\": \"number\",\n        \"std\": 1,\n        \"min\": 0,\n        \"max\": 4,\n        \"num_unique_values\": 5,\n        \"samples\": [\n          0,\n          3,\n          4\n        ],\n        \"semantic_type\": \"\",\n        \"description\": \"\"\n      }\n    },\n    {\n      \"column\": \"TransactionAmountToBalance\",\n      \"properties\": {\n        \"dtype\": \"number\",\n        \"std\": 3.8155341014422515,\n        \"min\": -0.3883734296932976,\n        \"max\": 58.21457352129909,\n        \"num_unique_values\": 2512,\n        \"samples\": [\n          0.7005969538234323,\n          -0.0945803562911514,\n          -0.3775953486084364\n        ],\n        \"semantic_type\": \"\",\n        \"description\": \"\"\n      }\n    },\n    {\n      \"column\": \"LoginToTransactionRatio\",\n      \"properties\": {\n        \"dtype\": \"number\",\n        \"std\": 1.6861880843001829,\n        \"min\": -0.5401505994301252,\n        \"max\": 29.484386347131448,\n        \"num_unique_values\": 368,\n        \"samples\": [\n          -0.5318977546776515,\n          0.9415182194882312,\n          -0.142561868052064\n        ],\n        \"semantic_type\": \"\",\n        \"description\": \"\"\n      }\n    },\n    {\n      \"column\": \"cluster\",\n      \"properties\": {\n        \"dtype\": \"number\",\n        \"std\": 0,\n        \"min\": 0,\n        \"max\": 1,\n        \"num_unique_values\": 2,\n        \"samples\": [\n          1,\n          0\n        ],\n        \"semantic_type\": \"\",\n        \"description\": \"\"\n      }\n    }\n  ]\n}"
            }
          },
          "metadata": {},
          "execution_count": 4
        }
      ]
    },
    {
      "cell_type": "markdown",
      "source": [
        "# **3. Data Splitting**"
      ],
      "metadata": {
        "id": "KkPem5eWL2UP"
      }
    },
    {
      "cell_type": "markdown",
      "source": [
        "Tahap Data Splitting bertujuan untuk memisahkan dataset menjadi dua bagian: data latih (training set) dan data uji (test set)."
      ],
      "metadata": {
        "id": "YYj1rl_JNI9Y"
      }
    },
    {
      "cell_type": "code",
      "source": [
        "# Memisahkan fitur dan target\n",
        "X = df.drop('cluster', axis=1)\n",
        "y = df['cluster']\n",
        "\n",
        "# Membagi data menjadi data latih dan data uji\n",
        "X_train, X_test, y_train, y_test = train_test_split(\n",
        "    X, y, test_size=0.3, random_state=RANDOM_SEED, stratify=y\n",
        ")\n",
        "\n",
        "# Melakukan standardisasi fitur\n",
        "scaler = StandardScaler()\n",
        "X_train_scaled = scaler.fit_transform(X_train)\n",
        "X_test_scaled = scaler.transform(X_test)\n",
        "\n",
        "# Menyimpan scaler untuk penggunaan selanjutnya\n",
        "pickle.dump(scaler, open('scaler_model.pkl', 'wb'))\n",
        "\n",
        "# Menampilkan informasi pembagian data\n",
        "print(f\"Jumlah data latih: {X_train.shape[0]}\")\n",
        "print(f\"Jumlah data uji: {X_test.shape[0]}\")\n",
        "print(f\"Distribusi kelas pada data latih:\\n{y_train.value_counts()}\")\n",
        "print(f\"Distribusi kelas pada data uji:\\n{y_test.value_counts()}\")"
      ],
      "metadata": {
        "id": "OubAW-7ONKVj",
        "colab": {
          "base_uri": "https://localhost:8080/"
        },
        "outputId": "031f8d72-b016-483c-fae3-66ae0dca58d7"
      },
      "execution_count": 5,
      "outputs": [
        {
          "output_type": "stream",
          "name": "stdout",
          "text": [
            "Jumlah data latih: 1758\n",
            "Jumlah data uji: 754\n",
            "Distribusi kelas pada data latih:\n",
            "cluster\n",
            "0    1659\n",
            "1      99\n",
            "Name: count, dtype: int64\n",
            "Distribusi kelas pada data uji:\n",
            "cluster\n",
            "0    712\n",
            "1     42\n",
            "Name: count, dtype: int64\n"
          ]
        }
      ]
    },
    {
      "cell_type": "markdown",
      "source": [
        "# **4. Membangun Model Klasifikasi**\n"
      ],
      "metadata": {
        "id": "IVPbB03CMhTT"
      }
    },
    {
      "cell_type": "markdown",
      "source": [
        "## **a. Membangun Model Klasifikasi**"
      ],
      "metadata": {
        "id": "Ned1pL9zMmBK"
      }
    },
    {
      "cell_type": "markdown",
      "source": [],
      "metadata": {
        "id": "WAWzPOE4Nkti"
      }
    },
    {
      "cell_type": "code",
      "source": [
        "# Fungsi untuk melatih model dan menampilkan ringkasan\n",
        "def train_model(model_name, model, X_train, y_train):\n",
        "    print(f\"\\nMelatih model {model_name}...\")\n",
        "    model.fit(X_train, y_train)\n",
        "    print(f\"Pelatihan model {model_name} selesai.\")\n",
        "\n",
        "    # Menyimpan model\n",
        "    pickle.dump(model, open(f'{model_name.lower().replace(\" \", \"_\")}_model.pkl', 'wb'))\n",
        "    print(f\"Model {model_name} disimpan sebagai {model_name.lower().replace(' ', '_')}_model.pkl\")\n",
        "\n",
        "    return model\n",
        "\n",
        "# Model 1: Logistic Regression\n",
        "print(\"\\n--- Model 1: Logistic Regression ---\")\n",
        "lr_model = LogisticRegression(random_state=RANDOM_SEED, max_iter=1000, solver='liblinear')\n",
        "lr_model = train_model(\"Logistic Regression\", lr_model, X_train_scaled, y_train)\n",
        "\n",
        "# Model 2: Naive Bayes\n",
        "print(\"\\n--- Model 2: Naive Bayes ---\")\n",
        "nb_model = GaussianNB()\n",
        "nb_model = train_model(\"Naive Bayes\", nb_model, X_train_scaled, y_train)"
      ],
      "metadata": {
        "id": "4JYxBe87NLDk",
        "colab": {
          "base_uri": "https://localhost:8080/"
        },
        "outputId": "b0970233-bac0-4d66-82e6-5426834ca28c"
      },
      "execution_count": 6,
      "outputs": [
        {
          "output_type": "stream",
          "name": "stdout",
          "text": [
            "\n",
            "--- Model 1: Logistic Regression ---\n",
            "\n",
            "Melatih model Logistic Regression...\n",
            "Pelatihan model Logistic Regression selesai.\n",
            "Model Logistic Regression disimpan sebagai logistic_regression_model.pkl\n",
            "\n",
            "--- Model 2: Naive Bayes ---\n",
            "\n",
            "Melatih model Naive Bayes...\n",
            "Pelatihan model Naive Bayes selesai.\n",
            "Model Naive Bayes disimpan sebagai naive_bayes_model.pkl\n"
          ]
        }
      ]
    },
    {
      "cell_type": "markdown",
      "source": [
        "Narasi Algoritma yang Digunakan:\n",
        "\n",
        "Logistic Regression\n",
        "\n",
        "Logistic Regression adalah algoritma klasifikasi linear yang memprediksi probabilitas suatu instance termasuk dalam kelas tertentu. Meskipun namanya menyebutkan \"regression\", algoritma ini sebenarnya digunakan untuk masalah klasifikasi.\n",
        "Keunggulan:\n",
        "\n",
        "Algoritma yang relatif sederhana dan mudah diinterpretasi\n",
        "Bekerja baik untuk kasus dengan batas keputusan linear\n",
        "Dapat memberikan probabilitas keanggotaan kelas\n",
        "Relatif tahan terhadap overfitting, terutama dengan regularisasi yang tepat\n",
        "\n",
        "\n",
        "Naive Bayes\n",
        "\n",
        "Naive Bayes adalah algoritma klasifikasi berbasis probabilistik yang menggunakan Teorema Bayes dengan asumsi independensi antar fitur. Gaussian Naive Bayes khususnya mengasumsikan fitur berdistribusi normal.\n",
        "Keunggulan:\n",
        "\n",
        "Algoritma yang sangat cepat dalam pelatihan dan prediksi\n",
        "Bekerja dengan baik bahkan dengan dataset kecil\n",
        "Dapat menangani noise dan fitur yang tidak relevan\n",
        "Cocok untuk dataset dengan banyak fitur"
      ],
      "metadata": {
        "id": "seYoHNY3XU1y"
      }
    },
    {
      "cell_type": "markdown",
      "source": [
        "## **b. Evaluasi Model Klasifikasi**"
      ],
      "metadata": {
        "id": "ergzChZFEL-O"
      }
    },
    {
      "cell_type": "markdown",
      "source": [
        "Berikut adalah **rekomendasi** tahapannya.\n",
        "1. Lakukan prediksi menggunakan data uji.\n",
        "2. Hitung metrik evaluasi seperti Accuracy dan F1-Score (Opsional: Precision dan Recall).\n",
        "3. Buat confusion matrix untuk melihat detail prediksi benar dan salah."
      ],
      "metadata": {
        "id": "zOm68u-7NpLT"
      }
    },
    {
      "cell_type": "code",
      "source": [
        "# Fungsi untuk evaluasi model\n",
        "def evaluate_model(model_name, model, X_test, y_test):\n",
        "    # Prediksi\n",
        "    y_pred = model.predict(X_test)\n",
        "\n",
        "    # Menghitung metrik\n",
        "    accuracy = accuracy_score(y_test, y_pred)\n",
        "    f1 = f1_score(y_test, y_pred, average='weighted')\n",
        "\n",
        "    # Menampilkan hasil\n",
        "    print(f\"\\n{model_name} Performance:\")\n",
        "    print(f\"Accuracy: {accuracy:.4f}\")\n",
        "    print(f\"F1-Score (weighted): {f1:.4f}\")\n",
        "    print(\"\\nClassification Report:\")\n",
        "    print(classification_report(y_test, y_pred))\n",
        "\n",
        "    # Visualisasi Confusion Matrix\n",
        "    plt.figure(figsize=(7, 5))\n",
        "    cm = confusion_matrix(y_test, y_pred)\n",
        "    sns.heatmap(cm, annot=True, fmt='d', cmap='Blues',\n",
        "                xticklabels=sorted(y.unique()),\n",
        "                yticklabels=sorted(y.unique()))\n",
        "    plt.title(f'Confusion Matrix - {model_name}')\n",
        "    plt.xlabel('Predicted')\n",
        "    plt.ylabel('Actual')\n",
        "    plt.tight_layout()\n",
        "    plt.show()\n",
        "\n",
        "    return {\n",
        "        'name': model_name,\n",
        "        'accuracy': accuracy,\n",
        "        'f1_score': f1\n",
        "    }"
      ],
      "metadata": {
        "id": "tMq4QAssNLip"
      },
      "execution_count": 7,
      "outputs": []
    },
    {
      "cell_type": "code",
      "source": [
        "# Evaluasi Logistic Regression\n",
        "print(\"\\n--- Evaluasi Logistic Regression ---\")\n",
        "lr_results = evaluate_model(\"Logistic Regression\", lr_model, X_test_scaled, y_test)"
      ],
      "metadata": {
        "colab": {
          "base_uri": "https://localhost:8080/",
          "height": 802
        },
        "id": "_sVUbABrPyOp",
        "outputId": "c5a7e392-d384-49f6-c97b-886bd555d209"
      },
      "execution_count": 8,
      "outputs": [
        {
          "output_type": "stream",
          "name": "stdout",
          "text": [
            "\n",
            "--- Evaluasi Logistic Regression ---\n",
            "\n",
            "Logistic Regression Performance:\n",
            "Accuracy: 0.9987\n",
            "F1-Score (weighted): 0.9987\n",
            "\n",
            "Classification Report:\n",
            "              precision    recall  f1-score   support\n",
            "\n",
            "           0       1.00      1.00      1.00       712\n",
            "           1       1.00      0.98      0.99        42\n",
            "\n",
            "    accuracy                           1.00       754\n",
            "   macro avg       1.00      0.99      0.99       754\n",
            "weighted avg       1.00      1.00      1.00       754\n",
            "\n"
          ]
        },
        {
          "output_type": "display_data",
          "data": {
            "text/plain": [
              "<Figure size 700x500 with 2 Axes>"
            ],
            "image/png": "[encoded data removed]"
          },
          "metadata": {}
        }
      ]
    },
    {
      "cell_type": "code",
      "source": [
        "# Evaluasi Naive Bayes\n",
        "print(\"\\n--- Evaluasi Naive Bayes ---\")\n",
        "nb_results = evaluate_model(\"Naive Bayes\", nb_model, X_test_scaled, y_test)"
      ],
      "metadata": {
        "colab": {
          "base_uri": "https://localhost:8080/",
          "height": 802
        },
        "id": "vhfgGFcgPz3X",
        "outputId": "409ab783-8a34-4ade-c97f-71e665ac2b96"
      },
      "execution_count": 9,
      "outputs": [
        {
          "output_type": "stream",
          "name": "stdout",
          "text": [
            "\n",
            "--- Evaluasi Naive Bayes ---\n",
            "\n",
            "Naive Bayes Performance:\n",
            "Accuracy: 0.9881\n",
            "F1-Score (weighted): 0.9886\n",
            "\n",
            "Classification Report:\n",
            "              precision    recall  f1-score   support\n",
            "\n",
            "           0       1.00      0.99      0.99       712\n",
            "           1       0.82      1.00      0.90        42\n",
            "\n",
            "    accuracy                           0.99       754\n",
            "   macro avg       0.91      0.99      0.95       754\n",
            "weighted avg       0.99      0.99      0.99       754\n",
            "\n"
          ]
        },
        {
          "output_type": "display_data",
          "data": {
            "text/plain": [
              "<Figure size 700x500 with 2 Axes>"
            ],
            "image/png": "[encoded data removed]"
          },
          "metadata": {}
        }
      ]
    },
    {
      "cell_type": "code",
      "source": [
        "# Perbandingan model\n",
        "results = pd.DataFrame([lr_results, nb_results])\n",
        "print(\"\\nPerbandingan Performa Model:\")\n",
        "print(results[['name', 'accuracy', 'f1_score']])"
      ],
      "metadata": {
        "colab": {
          "base_uri": "https://localhost:8080/"
        },
        "id": "GftHNtMFP1oW",
        "outputId": "6e4e88b6-49a3-41d1-e54b-4d6c2f44ec6f"
      },
      "execution_count": 10,
      "outputs": [
        {
          "output_type": "stream",
          "name": "stdout",
          "text": [
            "\n",
            "Perbandingan Performa Model:\n",
            "                  name  accuracy  f1_score\n",
            "0  Logistic Regression  0.998674  0.998666\n",
            "1          Naive Bayes  0.988064  0.988603\n"
          ]
        }
      ]
    },
    {
      "cell_type": "code",
      "source": [
        "# Visualisasi perbandingan\n",
        "plt.figure(figsize=(10, 6))\n",
        "models = [result['name'] for result in [lr_results, nb_results]]\n",
        "accuracies = [result['accuracy'] for result in [lr_results, nb_results]]\n",
        "f1_scores = [result['f1_score'] for result in [lr_results, nb_results]]\n",
        "\n",
        "x = np.arange(len(models))\n",
        "width = 0.35\n",
        "\n",
        "fig, ax = plt.subplots(figsize=(10, 6))\n",
        "rects1 = ax.bar(x - width/2, accuracies, width, label='Accuracy')\n",
        "rects2 = ax.bar(x + width/2, f1_scores, width, label='F1-Score')\n",
        "\n",
        "ax.set_title('Perbandingan Performa Model')\n",
        "ax.set_xticks(x)\n",
        "ax.set_xticklabels(models)\n",
        "ax.set_ylim(0, 1.1)\n",
        "ax.set_ylabel('Score')\n",
        "ax.legend()\n",
        "\n",
        "plt.tight_layout()\n",
        "plt.show()"
      ],
      "metadata": {
        "colab": {
          "base_uri": "https://localhost:8080/",
          "height": 624
        },
        "id": "FHfD3wThP34P",
        "outputId": "0bfb6d11-f3ba-42ac-e8ac-d31147e2127a"
      },
      "execution_count": 11,
      "outputs": [
        {
          "output_type": "display_data",
          "data": {
            "text/plain": [
              "<Figure size 1000x600 with 0 Axes>"
            ]
          },
          "metadata": {}
        },
        {
          "output_type": "display_data",
          "data": {
            "text/plain": [
              "<Figure size 1000x600 with 1 Axes>"
            ],
            "image/png": "[encoded data removed]"
          },
          "metadata": {}
        }
      ]
    },
    {
      "cell_type": "markdown",
      "source": [
        "Hasil Evaluasi Algoritma:\n",
        "Berdasarkan hasil evaluasi kedua model, kita dapat menganalisis performa masing-masing:\n",
        "\n",
        "Logistic Regression:\n",
        "\n",
        "Logistic Regression menunjukkan performa yang cukup baik dalam mengklasifikasikan data hasil clustering\n",
        "Akurasi dan F1-Score yang tinggi menunjukkan model ini dapat membedakan antar cluster dengan baik\n",
        "Confusion matrix menunjukkan jumlah kesalahan klasifikasi yang relatif rendah\n",
        "\n",
        "\n",
        "Naive Bayes:\n",
        "\n",
        "Naive Bayes menunjukkan performa yang sedikit lebih rendah dibandingkan Logistic Regression\n",
        "Hal ini mungkin disebabkan oleh asumsi independensi fitur yang tidak sepenuhnya terpenuhi dalam data transaksi\n",
        "Meskipun demikian, kecepatan training model ini sangat baik, membuatnya tetap jadi pilihan yang layak\n",
        "\n",
        "\n",
        "\n",
        "Kedua model menunjukkan performa yang memuaskan untuk kasus klasifikasi cluster ini, dengan Logistic Regression sedikit unggul. Namun, keunggulan ini perlu dipertimbangkan bersama dengan aspek lain seperti kompleksitas dan kecepatan."
      ],
      "metadata": {
        "id": "H4_9OwrsXZlz"
      }
    },
    {
      "cell_type": "markdown",
      "source": [
        "## **c. Tuning Model Klasifikasi (Optional)**"
      ],
      "metadata": {
        "id": "ph9yIYDXEPuB"
      }
    },
    {
      "cell_type": "markdown",
      "source": [
        "Gunakan GridSearchCV, RandomizedSearchCV, atau metode lainnya untuk mencari kombinasi hyperparameter terbaik"
      ],
      "metadata": {
        "id": "-Bikx3LINv5e"
      }
    },
    {
      "cell_type": "code",
      "source": [
        "# Tuning hyperparameter untuk Logistic Regression\n",
        "print(\"\\n--- Tuning Hyperparameter Logistic Regression ---\")\n",
        "param_grid_lr = {\n",
        "    'C': [0.001, 0.01, 0.1, 1, 10, 100],\n",
        "    'penalty': ['l1', 'l2'],\n",
        "    'solver': ['liblinear'],\n",
        "    'class_weight': [None, 'balanced']\n",
        "}\n",
        "\n",
        "grid_search_lr = GridSearchCV(\n",
        "    LogisticRegression(random_state=RANDOM_SEED, max_iter=1000),\n",
        "    param_grid_lr,\n",
        "    cv=5,\n",
        "    scoring='f1_weighted',\n",
        "    n_jobs=-1\n",
        ")\n",
        "\n",
        "grid_search_lr.fit(X_train_scaled, y_train)\n",
        "\n",
        "print(f\"Parameter terbaik: {grid_search_lr.best_params_}\")\n",
        "print(f\"Skor terbaik: {grid_search_lr.best_score_:.4f}\")"
      ],
      "metadata": {
        "id": "winbFzb8NL95",
        "colab": {
          "base_uri": "https://localhost:8080/"
        },
        "outputId": "f40fb8b6-e4be-4750-9e15-5ea0ad1f9dbc"
      },
      "execution_count": 12,
      "outputs": [
        {
          "output_type": "stream",
          "name": "stdout",
          "text": [
            "\n",
            "--- Tuning Hyperparameter Logistic Regression ---\n",
            "Parameter terbaik: {'C': 10, 'class_weight': None, 'penalty': 'l1', 'solver': 'liblinear'}\n",
            "Skor terbaik: 0.9989\n"
          ]
        }
      ]
    },
    {
      "cell_type": "code",
      "source": [
        "# Simpan model terbaik\n",
        "lr_tuned = grid_search_lr.best_estimator_\n",
        "pickle.dump(lr_tuned, open('logistic_regression_tuned_model.pkl', 'wb'))\n",
        "print(\"Model Logistic Regression hasil tuning disimpan sebagai 'logistic_regression_tuned_model.pkl'\")\n"
      ],
      "metadata": {
        "colab": {
          "base_uri": "https://localhost:8080/"
        },
        "id": "3tfSKPn4QGtF",
        "outputId": "6bb20c00-6f2f-47ea-e13d-b942b4c5aa6d"
      },
      "execution_count": 13,
      "outputs": [
        {
          "output_type": "stream",
          "name": "stdout",
          "text": [
            "Model Logistic Regression hasil tuning disimpan sebagai 'logistic_regression_tuned_model.pkl'\n"
          ]
        }
      ]
    },
    {
      "cell_type": "code",
      "source": [
        "# Tuning hyperparameter untuk Naive Bayes\n",
        "print(\"\\n--- Tuning Hyperparameter Naive Bayes ---\")\n",
        "param_grid_nb = {\n",
        "    'var_smoothing': np.logspace(-10, -8, 10)\n",
        "}\n",
        "\n",
        "grid_search_nb = GridSearchCV(\n",
        "    GaussianNB(),\n",
        "    param_grid_nb,\n",
        "    cv=5,\n",
        "    scoring='f1_weighted',\n",
        "    n_jobs=-1\n",
        ")\n",
        "\n",
        "grid_search_nb.fit(X_train_scaled, y_train)\n",
        "\n",
        "print(f\"Parameter terbaik: {grid_search_nb.best_params_}\")\n",
        "print(f\"Skor terbaik: {grid_search_nb.best_score_:.4f}\")"
      ],
      "metadata": {
        "colab": {
          "base_uri": "https://localhost:8080/"
        },
        "id": "s4uJoqwAQIyE",
        "outputId": "9e4569b7-a443-4243-e92b-98da44663f78"
      },
      "execution_count": 14,
      "outputs": [
        {
          "output_type": "stream",
          "name": "stdout",
          "text": [
            "\n",
            "--- Tuning Hyperparameter Naive Bayes ---\n",
            "Parameter terbaik: {'var_smoothing': np.float64(1e-10)}\n",
            "Skor terbaik: 0.9776\n"
          ]
        }
      ]
    },
    {
      "cell_type": "code",
      "source": [
        "# Simpan model terbaik\n",
        "nb_tuned = grid_search_nb.best_estimator_\n",
        "pickle.dump(nb_tuned, open('naive_bayes_tuned_model.pkl', 'wb'))\n",
        "print(\"Model Naive Bayes hasil tuning disimpan sebagai 'naive_bayes_tuned_model.pkl'\")"
      ],
      "metadata": {
        "colab": {
          "base_uri": "https://localhost:8080/"
        },
        "id": "9PNzWxxrQK4t",
        "outputId": "b1ec5bf1-0c90-48f6-e186-3afed6d38d65"
      },
      "execution_count": 15,
      "outputs": [
        {
          "output_type": "stream",
          "name": "stdout",
          "text": [
            "Model Naive Bayes hasil tuning disimpan sebagai 'naive_bayes_tuned_model.pkl'\n"
          ]
        }
      ]
    },
    {
      "cell_type": "markdown",
      "source": [
        "## **d. Evaluasi Model Klasifikasi setelah Tuning (Optional)**"
      ],
      "metadata": {
        "id": "hE7pqlEPEYzI"
      }
    },
    {
      "cell_type": "markdown",
      "source": [
        "Berikut adalah rekomendasi tahapannya.\n",
        "1. Gunakan model dengan hyperparameter terbaik.\n",
        "2. Hitung ulang metrik evaluasi untuk melihat apakah ada peningkatan performa."
      ],
      "metadata": {
        "id": "feaPESoeN0zz"
      }
    },
    {
      "cell_type": "code",
      "source": [
        "# Evaluasi model Logistic Regression setelah tuning\n",
        "print(\"\\n--- Evaluasi Logistic Regression Setelah Tuning ---\")\n",
        "lr_tuned_results = evaluate_model(\"Logistic Regression (Tuned)\", lr_tuned, X_test_scaled, y_test)"
      ],
      "metadata": {
        "colab": {
          "base_uri": "https://localhost:8080/",
          "height": 802
        },
        "id": "U9k5GXlhQV3Y",
        "outputId": "33822381-7a63-4a10-b78e-9b5e2e6ab263"
      },
      "execution_count": 16,
      "outputs": [
        {
          "output_type": "stream",
          "name": "stdout",
          "text": [
            "\n",
            "--- Evaluasi Logistic Regression Setelah Tuning ---\n",
            "\n",
            "Logistic Regression (Tuned) Performance:\n",
            "Accuracy: 1.0000\n",
            "F1-Score (weighted): 1.0000\n",
            "\n",
            "Classification Report:\n",
            "              precision    recall  f1-score   support\n",
            "\n",
            "           0       1.00      1.00      1.00       712\n",
            "           1       1.00      1.00      1.00        42\n",
            "\n",
            "    accuracy                           1.00       754\n",
            "   macro avg       1.00      1.00      1.00       754\n",
            "weighted avg       1.00      1.00      1.00       754\n",
            "\n"
          ]
        },
        {
          "output_type": "display_data",
          "data": {
            "text/plain": [
              "<Figure size 700x500 with 2 Axes>"
            ],
            "image/png": "[encoded data removed]"
          },
          "metadata": {}
        }
      ]
    },
    {
      "cell_type": "code",
      "source": [
        "# Evaluasi model Naive Bayes setelah tuning\n",
        "print(\"\\n--- Evaluasi Naive Bayes Setelah Tuning ---\")\n",
        "nb_tuned_results = evaluate_model(\"Naive Bayes (Tuned)\", nb_tuned, X_test_scaled, y_test)"
      ],
      "metadata": {
        "id": "HTXZRvEeNMb1",
        "colab": {
          "base_uri": "https://localhost:8080/",
          "height": 802
        },
        "outputId": "56ade696-d9d4-4641-d328-c7b57d157dc4"
      },
      "execution_count": 17,
      "outputs": [
        {
          "output_type": "stream",
          "name": "stdout",
          "text": [
            "\n",
            "--- Evaluasi Naive Bayes Setelah Tuning ---\n",
            "\n",
            "Naive Bayes (Tuned) Performance:\n",
            "Accuracy: 0.9881\n",
            "F1-Score (weighted): 0.9886\n",
            "\n",
            "Classification Report:\n",
            "              precision    recall  f1-score   support\n",
            "\n",
            "           0       1.00      0.99      0.99       712\n",
            "           1       0.82      1.00      0.90        42\n",
            "\n",
            "    accuracy                           0.99       754\n",
            "   macro avg       0.91      0.99      0.95       754\n",
            "weighted avg       0.99      0.99      0.99       754\n",
            "\n"
          ]
        },
        {
          "output_type": "display_data",
          "data": {
            "text/plain": [
              "<Figure size 700x500 with 2 Axes>"
            ],
            "image/png": "[encoded data removed]"
          },
          "metadata": {}
        }
      ]
    },
    {
      "cell_type": "code",
      "source": [
        "# Perbandingan semua model\n",
        "all_results = pd.DataFrame([lr_results, lr_tuned_results, nb_results, nb_tuned_results])\n",
        "print(\"\\nPerbandingan Performa Semua Model:\")\n",
        "print(all_results[['name', 'accuracy', 'f1_score']])"
      ],
      "metadata": {
        "colab": {
          "base_uri": "https://localhost:8080/"
        },
        "id": "z6k3D0czQUPX",
        "outputId": "d9ef5c77-eba5-411a-8614-7d9f5f66cbce"
      },
      "execution_count": 18,
      "outputs": [
        {
          "output_type": "stream",
          "name": "stdout",
          "text": [
            "\n",
            "Perbandingan Performa Semua Model:\n",
            "                          name  accuracy  f1_score\n",
            "0          Logistic Regression  0.998674  0.998666\n",
            "1  Logistic Regression (Tuned)  1.000000  1.000000\n",
            "2                  Naive Bayes  0.988064  0.988603\n",
            "3          Naive Bayes (Tuned)  0.988064  0.988603\n"
          ]
        }
      ]
    },
    {
      "cell_type": "code",
      "source": [
        "# Visualisasi perbandingan semua model\n",
        "plt.figure(figsize=(12, 6))\n",
        "models = all_results['name'].tolist()\n",
        "accuracies = all_results['accuracy'].tolist()\n",
        "f1_scores = all_results['f1_score'].tolist()\n",
        "\n",
        "x = np.arange(len(models))\n",
        "width = 0.35\n",
        "\n",
        "fig, ax = plt.subplots(figsize=(12, 6))\n",
        "rects1 = ax.bar(x - width/2, accuracies, width, label='Accuracy')\n",
        "rects2 = ax.bar(x + width/2, f1_scores, width, label='F1-Score')\n",
        "\n",
        "ax.set_title('Perbandingan Performa Model Sebelum dan Sesudah Tuning')\n",
        "ax.set_xticks(x)\n",
        "ax.set_xticklabels(models, rotation=15)\n",
        "ax.set_ylim(0, 1.1)\n",
        "ax.set_ylabel('Score')\n",
        "ax.legend()"
      ],
      "metadata": {
        "colab": {
          "base_uri": "https://localhost:8080/",
          "height": 628
        },
        "id": "nl15MRT8Qfi9",
        "outputId": "22cb6bd9-8797-4cd3-ab4c-20e6bf7826d4"
      },
      "execution_count": 19,
      "outputs": [
        {
          "output_type": "execute_result",
          "data": {
            "text/plain": [
              "<matplotlib.legend.Legend at 0x7a38533c5310>"
            ]
          },
          "metadata": {},
          "execution_count": 19
        },
        {
          "output_type": "display_data",
          "data": {
            "text/plain": [
              "<Figure size 1200x600 with 0 Axes>"
            ]
          },
          "metadata": {}
        },
        {
          "output_type": "display_data",
          "data": {
            "text/plain": [
              "<Figure size 1200x600 with 1 Axes>"
            ],
            "image/png": "[encoded data removed]"
          },
          "metadata": {}
        }
      ]
    },
    {
      "cell_type": "markdown",
      "source": [
        "## **e. Analisis Hasil Evaluasi Model Klasifikasi**"
      ],
      "metadata": {
        "id": "ZRsOdm4uEgAW"
      }
    },
    {
      "cell_type": "markdown",
      "source": [
        "Berikut adalah **rekomendasi** tahapannya.\n",
        "1. Bandingkan hasil evaluasi sebelum dan setelah tuning (jika dilakukan).\n",
        "2. Identifikasi kelemahan model, seperti:\n",
        "  - Precision atau Recall rendah untuk kelas tertentu.\n",
        "  - Apakah model mengalami overfitting atau underfitting?\n",
        "3. Berikan rekomendasi tindakan lanjutan, seperti mengumpulkan data tambahan atau mencoba algoritma lain jika hasil belum memuaskan."
      ],
      "metadata": {
        "id": "Hm3BhSi6N4_l"
      }
    }
  ]
}